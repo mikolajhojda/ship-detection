{
 "cells": [
  {
   "cell_type": "code",
   "execution_count": 1,
   "id": "2a8dad8b",
   "metadata": {},
   "outputs": [],
   "source": [
    "import os\n",
    "import random\n",
    "import shutil\n",
    "from glob import glob\n",
    "from ultralytics import YOLO\n",
    "\n",
    "# === Paths ===\n",
    "ROOT = os.getcwd() \n",
    "DATA_DIR = os.path.abspath(os.path.join(ROOT, \"../data\"))\n",
    "TILE_DIR = os.path.join(DATA_DIR, \"tiles\")\n",
    "LABEL_DIR = os.path.join(DATA_DIR, \"labels\")\n",
    "\n",
    "DATASET_DIR = os.path.abspath(os.path.join(ROOT, \"../dataset\"))\n",
    "os.makedirs(DATASET_DIR, exist_ok=True)\n",
    "\n",
    "# === Parameters ===\n",
    "TRAIN_SPLIT = 0.8\n",
    "IMG_SIZE = 512\n",
    "EPOCHS = 50\n",
    "MODEL_SIZE = \"yolov8n.pt\"\n"
   ]
  },
  {
   "cell_type": "code",
   "execution_count": 2,
   "id": "39214846",
   "metadata": {},
   "outputs": [],
   "source": [
    "# === Make folders ===\n",
    "for split in [\"train\", \"val\"]:\n",
    "    os.makedirs(os.path.join(DATASET_DIR, f\"images/{split}\"), exist_ok=True)\n",
    "    os.makedirs(os.path.join(DATASET_DIR, f\"labels/{split}\"), exist_ok=True)\n",
    "\n",
    "# === Load and split ===\n",
    "images = sorted(glob(os.path.join(TILE_DIR, \"*.png\")))\n",
    "random.shuffle(images)\n",
    "split_idx = int(len(images) * TRAIN_SPLIT)\n",
    "\n",
    "train_imgs = images[:split_idx]\n",
    "val_imgs = images[split_idx:]\n",
    "\n",
    "def copy_split(img_list, split):\n",
    "    for img_path in img_list:\n",
    "        filename = os.path.basename(img_path)\n",
    "        name = os.path.splitext(filename)[0]\n",
    "        label_path = os.path.join(LABEL_DIR, f\"{name}.txt\")\n",
    "\n",
    "        if os.path.exists(label_path):\n",
    "            shutil.copy(img_path, os.path.join(DATASET_DIR, f\"images/{split}/{filename}\"))\n",
    "            shutil.copy(label_path, os.path.join(DATASET_DIR, f\"labels/{split}/{name}.txt\"))\n",
    "\n",
    "copy_split(train_imgs, \"train\")\n",
    "copy_split(val_imgs, \"val\")\n"
   ]
  },
  {
   "cell_type": "code",
   "execution_count": 3,
   "id": "cef63ba8",
   "metadata": {},
   "outputs": [],
   "source": [
    "# === Create data.yaml ===\n",
    "yaml_content = f\"\"\"\n",
    "path: {DATASET_DIR}\n",
    "train: images/train\n",
    "val: images/val\n",
    "\n",
    "names:\n",
    "  0: ship\n",
    "\"\"\"\n",
    "\n",
    "with open(os.path.join(DATASET_DIR, \"data.yaml\"), \"w\") as f:\n",
    "    f.write(yaml_content)"
   ]
  },
  {
   "cell_type": "code",
   "execution_count": 2,
   "id": "87b3a934",
   "metadata": {},
   "outputs": [
    {
     "name": "stdout",
     "output_type": "stream",
     "text": [
      "\n",
      "✅ Training YOLOv8...\n",
      "\n",
      "Ultralytics 8.3.111  Python-3.9.21 torch-2.6.0+cpu CPU (11th Gen Intel Core(TM) i5-1135G7 2.40GHz)\n",
      "\u001b[34m\u001b[1mengine\\trainer: \u001b[0mtask=detect, mode=train, model=yolov8n.pt, data=d:\\Github repos\\ship-detection\\dataset\\data.yaml, epochs=50, time=None, patience=100, batch=1, imgsz=512, save=True, save_period=-1, cache=False, device=cpu, workers=8, project=None, name=train14, exist_ok=False, pretrained=True, optimizer=auto, verbose=True, seed=0, deterministic=True, single_cls=False, rect=False, cos_lr=False, close_mosaic=10, resume=False, amp=True, fraction=1.0, profile=False, freeze=None, multi_scale=False, overlap_mask=True, mask_ratio=4, dropout=0.0, val=True, split=val, save_json=False, conf=None, iou=0.7, max_det=300, half=False, dnn=False, plots=True, source=None, vid_stride=1, stream_buffer=False, visualize=False, augment=False, agnostic_nms=False, classes=None, retina_masks=False, embed=None, show=False, save_frames=False, save_txt=False, save_conf=False, save_crop=False, show_labels=True, show_conf=True, show_boxes=True, line_width=None, format=torchscript, keras=False, optimize=False, int8=False, dynamic=False, simplify=True, opset=None, workspace=None, nms=False, lr0=0.01, lrf=0.01, momentum=0.937, weight_decay=0.0005, warmup_epochs=3.0, warmup_momentum=0.8, warmup_bias_lr=0.1, box=7.5, cls=0.5, dfl=1.5, pose=12.0, kobj=1.0, nbs=64, hsv_h=0.015, hsv_s=0.7, hsv_v=0.4, degrees=0.0, translate=0.1, scale=0.5, shear=0.0, perspective=0.0, flipud=0.0, fliplr=0.5, bgr=0.0, mosaic=1.0, mixup=0.0, copy_paste=0.0, copy_paste_mode=flip, auto_augment=randaugment, erasing=0.4, cfg=None, tracker=botsort.yaml, save_dir=runs\\detect\\train14\n",
      "Overriding model.yaml nc=80 with nc=1\n",
      "\n",
      "                   from  n    params  module                                       arguments                     \n",
      "  0                  -1  1       464  ultralytics.nn.modules.conv.Conv             [3, 16, 3, 2]                 \n",
      "  1                  -1  1      4672  ultralytics.nn.modules.conv.Conv             [16, 32, 3, 2]                \n",
      "  2                  -1  1      7360  ultralytics.nn.modules.block.C2f             [32, 32, 1, True]             \n",
      "  3                  -1  1     18560  ultralytics.nn.modules.conv.Conv             [32, 64, 3, 2]                \n",
      "  4                  -1  2     49664  ultralytics.nn.modules.block.C2f             [64, 64, 2, True]             \n",
      "  5                  -1  1     73984  ultralytics.nn.modules.conv.Conv             [64, 128, 3, 2]               \n",
      "  6                  -1  2    197632  ultralytics.nn.modules.block.C2f             [128, 128, 2, True]           \n",
      "  7                  -1  1    295424  ultralytics.nn.modules.conv.Conv             [128, 256, 3, 2]              \n",
      "  8                  -1  1    460288  ultralytics.nn.modules.block.C2f             [256, 256, 1, True]           \n",
      "  9                  -1  1    164608  ultralytics.nn.modules.block.SPPF            [256, 256, 5]                 \n",
      " 10                  -1  1         0  torch.nn.modules.upsampling.Upsample         [None, 2, 'nearest']          \n",
      " 11             [-1, 6]  1         0  ultralytics.nn.modules.conv.Concat           [1]                           \n",
      " 12                  -1  1    148224  ultralytics.nn.modules.block.C2f             [384, 128, 1]                 \n",
      " 13                  -1  1         0  torch.nn.modules.upsampling.Upsample         [None, 2, 'nearest']          \n",
      " 14             [-1, 4]  1         0  ultralytics.nn.modules.conv.Concat           [1]                           \n",
      " 15                  -1  1     37248  ultralytics.nn.modules.block.C2f             [192, 64, 1]                  \n",
      " 16                  -1  1     36992  ultralytics.nn.modules.conv.Conv             [64, 64, 3, 2]                \n",
      " 17            [-1, 12]  1         0  ultralytics.nn.modules.conv.Concat           [1]                           \n",
      " 18                  -1  1    123648  ultralytics.nn.modules.block.C2f             [192, 128, 1]                 \n",
      " 19                  -1  1    147712  ultralytics.nn.modules.conv.Conv             [128, 128, 3, 2]              \n",
      " 20             [-1, 9]  1         0  ultralytics.nn.modules.conv.Concat           [1]                           \n",
      " 21                  -1  1    493056  ultralytics.nn.modules.block.C2f             [384, 256, 1]                 \n",
      " 22        [15, 18, 21]  1    751507  ultralytics.nn.modules.head.Detect           [1, [64, 128, 256]]           \n",
      "Model summary: 129 layers, 3,011,043 parameters, 3,011,027 gradients, 8.2 GFLOPs\n",
      "\n",
      "Transferred 319/355 items from pretrained weights\n",
      "Freezing layer 'model.22.dfl.conv.weight'\n",
      "\u001b[34m\u001b[1mtrain: \u001b[0mFast image access  (ping: 0.10.1 ms, read: 226.376.3 MB/s, size: 136.3 KB)\n"
     ]
    },
    {
     "name": "stderr",
     "output_type": "stream",
     "text": [
      "\u001b[34m\u001b[1mtrain: \u001b[0mScanning D:\\Github repos\\ship-detection\\dataset\\labels\\train.cache... 33 images, 0 backgrounds, 0 corrupt: 100%|██████████| 33/33 [00:00<?, ?it/s]"
     ]
    },
    {
     "name": "stdout",
     "output_type": "stream",
     "text": [
      "\u001b[34m\u001b[1mval: \u001b[0mFast image access  (ping: 0.10.0 ms, read: 387.1100.6 MB/s, size: 212.5 KB)\n"
     ]
    },
    {
     "name": "stderr",
     "output_type": "stream",
     "text": [
      "\n",
      "\u001b[34m\u001b[1mval: \u001b[0mScanning D:\\Github repos\\ship-detection\\dataset\\labels\\val.cache... 22 images, 0 backgrounds, 0 corrupt: 100%|██████████| 22/22 [00:00<?, ?it/s]\n"
     ]
    },
    {
     "name": "stdout",
     "output_type": "stream",
     "text": [
      "Plotting labels to runs\\detect\\train14\\labels.jpg... \n"
     ]
    },
    {
     "ename": "",
     "evalue": "",
     "output_type": "error",
     "traceback": [
      "\u001b[1;31mThe Kernel crashed while executing code in the current cell or a previous cell. \n",
      "\u001b[1;31mPlease review the code in the cell(s) to identify a possible cause of the failure. \n",
      "\u001b[1;31mClick <a href='https://aka.ms/vscodeJupyterKernelCrash'>here</a> for more info. \n",
      "\u001b[1;31mView Jupyter <a href='command:jupyter.viewOutput'>log</a> for further details."
     ]
    }
   ],
   "source": [
    "# === Train YOLOv8 ===\n",
    "print(\"\\n✅ Training YOLOv8...\\n\")\n",
    "model = YOLO(MODEL_SIZE)\n",
    "model.train(data=os.path.join(DATASET_DIR, \"data.yaml\"), epochs=EPOCHS, imgsz=IMG_SIZE, batch=1, device='cpu')"
   ]
  },
  {
   "cell_type": "code",
   "execution_count": null,
   "id": "92c2815a",
   "metadata": {},
   "outputs": [],
   "source": [
    "# === Evaluate model ===\n",
    "model.val()"
   ]
  }
 ],
 "metadata": {
  "kernelspec": {
   "display_name": "copernicus_env",
   "language": "python",
   "name": "python3"
  },
  "language_info": {
   "codemirror_mode": {
    "name": "ipython",
    "version": 3
   },
   "file_extension": ".py",
   "mimetype": "text/x-python",
   "name": "python",
   "nbconvert_exporter": "python",
   "pygments_lexer": "ipython3",
   "version": "3.9.21"
  }
 },
 "nbformat": 4,
 "nbformat_minor": 5
}
