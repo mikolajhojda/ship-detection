{
 "cells": [
  {
   "cell_type": "code",
   "execution_count": 4,
   "id": "9108de7f",
   "metadata": {},
   "outputs": [],
   "source": [
    "import os\n",
    "import json\n",
    "from PIL import Image\n",
    "\n",
    "input_dir = \"../data/annotated\"\n",
    "output_dir = \"../data/labels\"\n",
    "image_dir = \"../data/tiles\"\n",
    "class_name = \"ship\"  # change if needed\n",
    "\n",
    "# Make sure output folder exists\n",
    "os.makedirs(output_dir, exist_ok=True)\n",
    "\n",
    "for filename in os.listdir(input_dir):\n",
    "    if filename.endswith(\".json\"):\n",
    "        json_path = os.path.join(input_dir, filename)\n",
    "        with open(json_path) as f:\n",
    "            data = json.load(f)\n",
    "\n",
    "        img_path = os.path.join(image_dir, data[\"imagePath\"])\n",
    "        with Image.open(img_path) as img:\n",
    "            img_w, img_h = img.size\n",
    "\n",
    "        label_path = os.path.join(output_dir, filename.replace(\".json\", \".txt\"))\n",
    "        with open(label_path, \"w\") as out:\n",
    "            for shape in data[\"shapes\"]:\n",
    "                if shape[\"shape_type\"] != \"rectangle\":\n",
    "                    continue  # or handle polygons if you labeled them\n",
    "\n",
    "                points = shape[\"points\"]\n",
    "                x1, y1 = points[0]\n",
    "                x2, y2 = points[1]\n",
    "\n",
    "                # Normalize to YOLO format: x_center, y_center, width, height\n",
    "                x_center = ((x1 + x2) / 2) / img_w\n",
    "                y_center = ((y1 + y2) / 2) / img_h\n",
    "                width = abs(x2 - x1) / img_w\n",
    "                height = abs(y2 - y1) / img_h\n",
    "\n",
    "                out.write(f\"0 {x_center} {y_center} {width} {height}\\n\")  # class 0 = \"ship\"\n"
   ]
  }
 ],
 "metadata": {
  "kernelspec": {
   "display_name": "copernicus_env",
   "language": "python",
   "name": "python3"
  },
  "language_info": {
   "codemirror_mode": {
    "name": "ipython",
    "version": 3
   },
   "file_extension": ".py",
   "mimetype": "text/x-python",
   "name": "python",
   "nbconvert_exporter": "python",
   "pygments_lexer": "ipython3",
   "version": "3.9.21"
  }
 },
 "nbformat": 4,
 "nbformat_minor": 5
}
